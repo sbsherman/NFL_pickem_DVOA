{
 "cells": [
  {
   "cell_type": "markdown",
   "metadata": {},
   "source": [
    "# How many games can DVOA pick correctly?\n",
    "There are a few measures of DVOA given by Football Outsiders (DVOA, DAVE, weighted DVOA, and position-based DVOA). For the first test I'll see how many times DVOA can correctly pick the winner of a football game throughout the season. Then I'll look at other measures (and combinations of these measures) to see if they do a better job. We will find out if DVOA is a competitive guesser in a straight-up pick-em pool. \n",
    "\n",
    "Finally, the results from picking game winners using all varieties of DVOA will be saved to a file for later use. \n",
    "\n",
    "DVOA Results are taken from the weekly DVOA reports published on Football Outsiders: https://www.footballoutsiders.com/dvoa-ratings\n",
    "\n",
    "NOTE:\n",
    "On the Football Outsiders' website, they publish using titles with the format \"Week 1 DVOA Ratings\". These are actually the ratings computed after week 1 games have been played. Because I am interested in making predictions I only use data that is available before games are played each week. I use the published preseason DVOA ratings to predict outcomes of week 1 games, published week 1 ratings to predict outcomes of week 2, etc."
   ]
  },
  {
   "cell_type": "code",
   "execution_count": 148,
   "metadata": {
    "collapsed": true
   },
   "outputs": [],
   "source": [
    "## Imports for data processing and plotting\n",
    "import pandas as pd\n",
    "import numpy as np\n",
    "import matplotlib\n",
    "import matplotlib.pyplot as plt\n",
    "from matplotlib.pyplot import cm\n",
    "from matplotlib.colors import LogNorm\n",
    "from mpl_toolkits.axes_grid.anchored_artists import AnchoredText\n",
    "%matplotlib inline\n",
    "\n",
    "pd.set_option('display.max_rows', 50)\n",
    "pd.set_option('display.max_columns', 5000)\n",
    "pd.set_option('display.width', 5000)\n",
    "\n",
    "from IPython.core.interactiveshell import InteractiveShell\n",
    "InteractiveShell.ast_node_interactivity = \"all\"\n",
    "\n",
    "## Plot settings\n",
    "plt.rcParams['xtick.major.width'] = .9\n",
    "plt.rcParams['xtick.major.size'] = 8.\n",
    "plt.rcParams['xtick.minor.size'] = 5.\n",
    "plt.rcParams['xtick.minor.width'] = .9\n",
    "plt.rcParams['xtick.labelsize'] = 19.\n",
    "plt.rcParams['ytick.major.width'] = .9\n",
    "plt.rcParams['ytick.major.size'] = 8.\n",
    "plt.rcParams['ytick.minor.size'] = 5.\n",
    "plt.rcParams['ytick.minor.width'] = .9\n",
    "plt.rcParams['ytick.labelsize'] = 19.\n",
    "plt.rcParams['axes.linewidth'] = 2.\n",
    "plt.rcParams['axes.labelweight'] = 'normal'\n",
    "plt.rcParams['axes.labelsize'] = 20.\n",
    "matplotlib.rcParams['agg.path.chunksize'] = 10000\n",
    "col1 = cm.viridis(np.linspace(0,0.8,13))\n",
    "col2 = cm.Set2(np.linspace(0,1,8))\n",
    "col3 = cm.Set3(np.linspace(0,1,12))"
   ]
  },
  {
   "cell_type": "code",
   "execution_count": 149,
   "metadata": {
    "collapsed": true
   },
   "outputs": [],
   "source": [
    "indir = '/Users/sydney/Desktop/data_science/NFL_pickem_DVOA/'\n",
    "outdir = indir"
   ]
  },
  {
   "cell_type": "markdown",
   "metadata": {},
   "source": [
    "## Read in results from NFL 2017 and 2018 regular season matchups\n",
    "NFL results are taken from: https://www.pro-football-reference.com/years/2017/games.htm"
   ]
  },
  {
   "cell_type": "code",
   "execution_count": 150,
   "metadata": {
    "collapsed": true
   },
   "outputs": [],
   "source": [
    "nfl_results17 = pd.read_csv(indir + 'NFL_results_data/2017_NFL_results.csv')\n",
    "nfl_results18 = pd.read_csv(indir + 'NFL_results_data/2018_NFL_results.csv')"
   ]
  },
  {
   "cell_type": "code",
   "execution_count": 151,
   "metadata": {
    "collapsed": true
   },
   "outputs": [],
   "source": [
    "##NFL results have long team names, switch them to the short abbreviations - 2017 Season\n",
    "teamName_short17 = np.asarray(['LARM','BAL','BUF','KC','CAR','DAL','PIT',\n",
    "                  'DET','ATL','GB','JAC','PHI','MIN','OAK',\n",
    "                  'TEN','MIA','TB','LACH','DEN','CHI','WAS',\n",
    "                  'NO','SEA','NE','NYG','HOU','CLE','ARI',\n",
    "                  'SF','NYJ','CIN','IND'])\n",
    "\n",
    "teamName_long17 = np.asarray(['Los Angeles Rams', 'Baltimore Ravens', 'Buffalo Bills', 'Kansas City Chiefs',\n",
    "                'Carolina Panthers', 'Dallas Cowboys', 'Pittsburgh Steelers', 'Detroit Lions',\n",
    "                'Atlanta Falcons', 'Green Bay Packers', 'Jacksonville Jaguars', 'Philadelphia Eagles',\n",
    "                'Minnesota Vikings', 'Oakland Raiders', 'Tennessee Titans', 'Miami Dolphins',\n",
    "                'Tampa Bay Buccaneers', 'Los Angeles Chargers', 'Denver Broncos', 'Chicago Bears',\n",
    "                'Washington Redskins', 'New Orleans Saints', 'Seattle Seahawks', 'New England Patriots',\n",
    "                'New York Giants', 'Houston Texans', 'Cleveland Browns', 'Arizona Cardinals',\n",
    "                'San Francisco 49ers', 'New York Jets', 'Cincinnati Bengals', 'Indianapolis Colts'])\n",
    "\n",
    "##NFL results have long team names, switch them to the short abbreviations - 2018 Season\n",
    "teamName_short18 = np.asarray(['LAR','BAL','BUF','KC','CAR','DAL','PIT',\n",
    "                  'DET','ATL','GB','JAX','PHI','MIN','OAK',\n",
    "                  'TEN','MIA','TB','LAC','DEN','CHI','WAS',\n",
    "                  'NO','SEA','NE','NYG','HOU','CLE','ARI',\n",
    "                  'SF','NYJ','CIN','IND'])\n",
    "\n",
    "teamName_long18 = np.asarray(['Los Angeles Rams', 'Baltimore Ravens', 'Buffalo Bills', 'Kansas City Chiefs',\n",
    "                'Carolina Panthers', 'Dallas Cowboys', 'Pittsburgh Steelers', 'Detroit Lions',\n",
    "                'Atlanta Falcons', 'Green Bay Packers', 'Jacksonville Jaguars', 'Philadelphia Eagles',\n",
    "                'Minnesota Vikings', 'Oakland Raiders', 'Tennessee Titans', 'Miami Dolphins',\n",
    "                'Tampa Bay Buccaneers', 'Los Angeles Chargers', 'Denver Broncos', 'Chicago Bears',\n",
    "                'Washington Redskins', 'New Orleans Saints', 'Seattle Seahawks', 'New England Patriots',\n",
    "                'New York Giants', 'Houston Texans', 'Cleveland Browns', 'Arizona Cardinals',\n",
    "                'San Francisco 49ers', 'New York Jets', 'Cincinnati Bengals', 'Indianapolis Colts'])"
   ]
  },
  {
   "cell_type": "code",
   "execution_count": 152,
   "metadata": {},
   "outputs": [],
   "source": [
    "### Loop through and correct 2017 Names\n",
    "winner_short17 = []\n",
    "loser_short17 = []\n",
    "\n",
    "for n in range(len(nfl_results17['Winner/tie'])):\n",
    "    ## Winners\n",
    "    loc = np.where(teamName_long17 == nfl_results17['Winner/tie'][n])[0]\n",
    "    winner_short17 = np.append(winner_short17, teamName_short17[loc])\n",
    "    ## Losers\n",
    "    loc = np.where(teamName_long17 == nfl_results17['Loser/tie'][n])[0]\n",
    "    loser_short17 = np.append(loser_short17, teamName_short17[loc])\n",
    "\n",
    "### Loop through and correct 2018 Names\n",
    "winner_short18 = []\n",
    "loser_short18 = []\n",
    "\n",
    "for n in range(len(nfl_results18['Winner/tie'])):\n",
    "    ## Winners\n",
    "    loc = np.where(teamName_long18 == nfl_results18['Winner/tie'][n])[0]\n",
    "    winner_short18 = np.append(winner_short18, teamName_short18[loc])\n",
    "    ## Losers\n",
    "    loc = np.where(teamName_long18 == nfl_results18['Loser/tie'][n])[0]\n",
    "    loser_short18 = np.append(loser_short18, teamName_short18[loc])"
   ]
  },
  {
   "cell_type": "code",
   "execution_count": 153,
   "metadata": {
    "collapsed": true
   },
   "outputs": [],
   "source": [
    "### Make new dataframes with only the info you would have before the game (team names, week)\n",
    "## 2017 Season\n",
    "games17_info = {'Week': nfl_results17['Week'],\n",
    "               'Winner':winner_short17,\n",
    "               'Loser':loser_short17}\n",
    "games17 = pd.DataFrame(games17_info)\n",
    "\n",
    "## 2018 Season\n",
    "games18_info = {'Week': nfl_results18['Week'],\n",
    "               'Winner':winner_short18,\n",
    "               'Loser':loser_short18}\n",
    "games18 = pd.DataFrame(games18_info)"
   ]
  },
  {
   "cell_type": "markdown",
   "metadata": {},
   "source": [
    "## Count DVOA correct picks\n",
    "Loop through each week in the season, open the DVOA predictions file for that week, for each matchup find who DVOA would pick, award one point for correct pick, no points for incorrect pick"
   ]
  },
  {
   "cell_type": "code",
   "execution_count": 154,
   "metadata": {
    "collapsed": true
   },
   "outputs": [],
   "source": [
    "## Number of weeks in NFL regular season\n",
    "nweeks = 17\n",
    "\n",
    "### 2017 correct pick counter\n",
    "correctPickCount17 = 0\n",
    "tiedPicks17 = 0\n",
    "weeklyWins17 = np.zeros(nweeks)\n",
    "\n",
    "for w in range(0,nweeks):\n",
    "    ## Read in DVOA file for this week\n",
    "    dvoa_data = pd.read_csv(indir + '2017_FO_DVOA_data/2017_dvoa_wk'+str(w)+'.csv')\n",
    "    \n",
    "    ## Which NFL games were played this week\n",
    "    gamesThisWeek = games17[games17['Week'] == w+1]\n",
    "    weeklyWinsCounter = 0\n",
    "    \n",
    "    ## Loop through games\n",
    "    idx = np.where(games17['Week'] == w+1)[0]\n",
    "    for g in range(len(idx)):\n",
    "        wTeam = gamesThisWeek['Winner'][idx[g]]\n",
    "        lTeam = gamesThisWeek['Loser'][idx[g]]\n",
    "        \n",
    "        dvoa_idx_w = np.where(dvoa_data['TEAM'] == wTeam)[0][0]\n",
    "        dvoa_val_w = dvoa_data['TOTAL DVOA'][dvoa_idx_w]\n",
    "        \n",
    "        dvoa_idx_l = np.where(dvoa_data['TEAM'] == lTeam)[0][0]\n",
    "        dvoa_val_l = dvoa_data['TOTAL DVOA'][dvoa_idx_l]\n",
    "        \n",
    "        if (dvoa_val_w > dvoa_val_l):\n",
    "            correctPickCount17 += 1\n",
    "            weeklyWinsCounter += 1\n",
    "            \n",
    "        if (dvoa_val_w == dvoa_val_l):\n",
    "            tiedPicks17 += 1\n",
    "            \n",
    "    weeklyWins17[w] = weeklyWinsCounter"
   ]
  },
  {
   "cell_type": "code",
   "execution_count": 155,
   "metadata": {},
   "outputs": [],
   "source": [
    "## Save output to more descriptive names\n",
    "dvoaOnly_correctPickCount17 = correctPickCount17\n",
    "dvoaOnly_tiedPicks17 = tiedPicks17\n",
    "dvoaOnly_weeklyWins17 = weeklyWins17"
   ]
  },
  {
   "cell_type": "code",
   "execution_count": 156,
   "metadata": {
    "collapsed": true
   },
   "outputs": [],
   "source": [
    "## Number of weeks in NFL regular season\n",
    "nweeks = 17\n",
    "\n",
    "### 2018 correct pick counter\n",
    "correctPickCount18 = 0\n",
    "tiedPicks18 = 0\n",
    "weeklyWins18 = np.zeros(nweeks)\n",
    "\n",
    "for w in range(0,nweeks):\n",
    "    ## Read in DVOA file for this week\n",
    "    dvoa_data = pd.read_csv(indir + '2018_FO_DVOA_data/2018_dvoa_wk'+str(w)+'.csv')\n",
    "    \n",
    "    ## Which NFL games were played this week\n",
    "    gamesThisWeek = games18[games18['Week'] == w+1]\n",
    "    weeklyWinsCounter = 0\n",
    "    \n",
    "    ## Loop through games\n",
    "    idx = np.where(games18['Week'] == w+1)[0]\n",
    "    for g in range(len(idx)):\n",
    "        wTeam = gamesThisWeek['Winner'][idx[g]]\n",
    "        lTeam = gamesThisWeek['Loser'][idx[g]]\n",
    "        \n",
    "        dvoa_idx_w = np.where(dvoa_data['TEAM'] == wTeam)[0][0]\n",
    "        dvoa_val_w = dvoa_data['TOTAL DVOA'][dvoa_idx_w]\n",
    "        \n",
    "        dvoa_idx_l = np.where(dvoa_data['TEAM'] == lTeam)[0][0]\n",
    "        dvoa_val_l = dvoa_data['TOTAL DVOA'][dvoa_idx_l]\n",
    "        \n",
    "        if (dvoa_val_w > dvoa_val_l):\n",
    "            correctPickCount18 += 1\n",
    "            weeklyWinsCounter += 1\n",
    "            \n",
    "        if (dvoa_val_w == dvoa_val_l):\n",
    "            tiedPicks18 += 1\n",
    "            \n",
    "    weeklyWins18[w] = weeklyWinsCounter"
   ]
  },
  {
   "cell_type": "code",
   "execution_count": 157,
   "metadata": {},
   "outputs": [],
   "source": [
    "dvoaOnly_correctPickCount18 = correctPickCount18\n",
    "dvoaOnly_tiedPicks18 = tiedPicks18\n",
    "dvoaOnly_weeklyWins18 = weeklyWins18"
   ]
  },
  {
   "cell_type": "markdown",
   "metadata": {},
   "source": [
    "## Using DAVE for predicting weeks 2-8\n",
    "DAVE is a success measure used by Football Outsiders in the first two months of the season (computed following week 1 and available for predicting week 2). This measure starts by giving high weight to preseason prediction (90% in week 1) and this weight is reduced each week until week 8. This gives a more informed success rating for teams in the first half of the season when a team has limited historical data. \n",
    "\n",
    "After week 8, regular total DVOA will be used for prediction. "
   ]
  },
  {
   "cell_type": "code",
   "execution_count": 158,
   "metadata": {},
   "outputs": [],
   "source": [
    "## Number of weeks in NFL regular season\n",
    "nweeks = 17\n",
    "dave_min_week = 1 ## First published in week 1 to predict for week 2\n",
    "dave_max_week = 7 ## Last published in week 7 to predict for week 8\n",
    "\n",
    "### 2017 correct pick counter\n",
    "correctPickCount17 = 0\n",
    "tiedPicks17 = 0\n",
    "weeklyWins17 = np.zeros(nweeks)\n",
    "\n",
    "for w in range(0,nweeks):\n",
    "    ## Read in DVOA file for this week\n",
    "    dvoa_data = pd.read_csv(indir + '2017_FO_DVOA_data/2017_dvoa_wk'+str(w)+'.csv')\n",
    "    \n",
    "    ## Which NFL games were played this week\n",
    "    gamesThisWeek = games17[games17['Week'] == w+1]\n",
    "    weeklyWinsCounter = 0\n",
    "    \n",
    "    ## Loop through games\n",
    "    idx = np.where(games17['Week'] == w+1)[0]\n",
    "    for g in range(len(idx)):\n",
    "        wTeam = gamesThisWeek['Winner'][idx[g]]\n",
    "        lTeam = gamesThisWeek['Loser'][idx[g]]\n",
    "        \n",
    "        ## If it's the first week of the season or after the 8th week, use DVOA\n",
    "        if (w < dave_min_week) | (w > dave_max_week):\n",
    "            dvoa_idx_w = np.where(dvoa_data['TEAM'] == wTeam)[0][0]\n",
    "            dvoa_val_w = dvoa_data['TOTAL DVOA'][dvoa_idx_w]\n",
    "\n",
    "            dvoa_idx_l = np.where(dvoa_data['TEAM'] == lTeam)[0][0]\n",
    "            dvoa_val_l = dvoa_data['TOTAL DVOA'][dvoa_idx_l]\n",
    "        ## If it's the 2nd-8th week, use DAVE\n",
    "        else:\n",
    "            dvoa_idx_w = np.where(dvoa_data['TEAM'] == wTeam)[0][0]\n",
    "            dvoa_val_w = dvoa_data['TOTAL DAVE'][dvoa_idx_w]\n",
    "\n",
    "            dvoa_idx_l = np.where(dvoa_data['TEAM'] == lTeam)[0][0]\n",
    "            dvoa_val_l = dvoa_data['TOTAL DAVE'][dvoa_idx_l]\n",
    "        \n",
    "        if (dvoa_val_w > dvoa_val_l):\n",
    "            correctPickCount17 += 1\n",
    "            weeklyWinsCounter += 1\n",
    "            \n",
    "        if (dvoa_val_w == dvoa_val_l):\n",
    "            tiedPicks17 += 1\n",
    "            \n",
    "    weeklyWins17[w] = weeklyWinsCounter"
   ]
  },
  {
   "cell_type": "code",
   "execution_count": 159,
   "metadata": {},
   "outputs": [],
   "source": [
    "daveTOdvoa_correctPickCount17 = correctPickCount17\n",
    "daveTOdvoa_tiedPicks17 = tiedPicks17\n",
    "daveTOdvoa_weeklyWins17 = weeklyWins17"
   ]
  },
  {
   "cell_type": "code",
   "execution_count": 160,
   "metadata": {
    "collapsed": true
   },
   "outputs": [],
   "source": [
    "## Number of weeks in NFL regular season\n",
    "nweeks = 17\n",
    "dave_min_week = 1 ## First published in week 1 to predict for week 2\n",
    "dave_max_week = 8 ## Last published in week 8 to predict for week 9\n",
    "\n",
    "### 2018 correct pick counter\n",
    "correctPickCount18 = 0\n",
    "tiedPicks18 = 0\n",
    "weeklyWins18 = np.zeros(nweeks)\n",
    "\n",
    "for w in range(0,nweeks):\n",
    "    ## Read in DVOA file for this week\n",
    "    dvoa_data = pd.read_csv(indir + '2018_FO_DVOA_data/2018_dvoa_wk'+str(w)+'.csv')\n",
    "    \n",
    "    ## Which NFL games were played this week\n",
    "    gamesThisWeek = games18[games18['Week'] == w+1]\n",
    "    weeklyWinsCounter = 0\n",
    "    \n",
    "    ## Loop through games\n",
    "    idx = np.where(games18['Week'] == w+1)[0]\n",
    "    for g in range(len(idx)):\n",
    "        wTeam = gamesThisWeek['Winner'][idx[g]]\n",
    "        lTeam = gamesThisWeek['Loser'][idx[g]]\n",
    "        \n",
    "        ## If it's the first week of the season or after the 8th week, use DVOA\n",
    "        if (w < dave_min_week) | (w > dave_max_week):\n",
    "            dvoa_idx_w = np.where(dvoa_data['TEAM'] == wTeam)[0][0]\n",
    "            dvoa_val_w = dvoa_data['TOTAL DVOA'][dvoa_idx_w]\n",
    "\n",
    "            dvoa_idx_l = np.where(dvoa_data['TEAM'] == lTeam)[0][0]\n",
    "            dvoa_val_l = dvoa_data['TOTAL DVOA'][dvoa_idx_l]\n",
    "        ## If it's the 2nd-8th week, use DAVE\n",
    "        else:\n",
    "            dvoa_idx_w = np.where(dvoa_data['TEAM'] == wTeam)[0][0]\n",
    "            dvoa_val_w = dvoa_data['TOTAL DAVE'][dvoa_idx_w]\n",
    "\n",
    "            dvoa_idx_l = np.where(dvoa_data['TEAM'] == lTeam)[0][0]\n",
    "            dvoa_val_l = dvoa_data['TOTAL DAVE'][dvoa_idx_l]\n",
    "        \n",
    "        if (dvoa_val_w > dvoa_val_l):\n",
    "            correctPickCount18 += 1\n",
    "            weeklyWinsCounter += 1\n",
    "            \n",
    "        if (dvoa_val_w == dvoa_val_l):\n",
    "            tiedPicks18 += 1\n",
    "            \n",
    "    weeklyWins18[w] = weeklyWinsCounter"
   ]
  },
  {
   "cell_type": "code",
   "execution_count": 161,
   "metadata": {
    "collapsed": true
   },
   "outputs": [],
   "source": [
    "daveTOdvoa_correctPickCount18 = correctPickCount18\n",
    "daveTOdvoa_tiedPicks18 = tiedPicks18\n",
    "daveTOdvoa_weeklyWins18 = weeklyWins18"
   ]
  },
  {
   "cell_type": "markdown",
   "metadata": {},
   "source": [
    "## Using Weighted DVOA for predicting weeks 9-17\n",
    "Weigted DVOA is available in the second half of the season and gives higher weight to more recent games played. For weeks 1 - 7 I will use total DVOA for predicting and in weeks 8 - 17 I will use the weighted DVOA. "
   ]
  },
  {
   "cell_type": "code",
   "execution_count": 162,
   "metadata": {
    "collapsed": true
   },
   "outputs": [],
   "source": [
    "## Number of weeks in NFL regular season\n",
    "nweeks = 17\n",
    "wdvoa_min_week = 8 ## First published in week 8 to predict for week 9\n",
    "\n",
    "### 2017 correct pick counter\n",
    "correctPickCount17 = 0\n",
    "tiedPicks17 = 0\n",
    "weeklyWins17 = np.zeros(nweeks)\n",
    "\n",
    "for w in range(0,nweeks):\n",
    "    ## Read in DVOA file for this week\n",
    "    dvoa_data = pd.read_csv(indir + '2017_FO_DVOA_data/2017_dvoa_wk'+str(w)+'.csv')\n",
    "    \n",
    "    ## Which NFL games were played this week\n",
    "    gamesThisWeek = games17[games17['Week'] == w+1]\n",
    "    weeklyWinsCounter = 0\n",
    "    \n",
    "    ## Loop through games\n",
    "    idx = np.where(games17['Week'] == w+1)[0]\n",
    "    for g in range(len(idx)):\n",
    "        wTeam = gamesThisWeek['Winner'][idx[g]]\n",
    "        lTeam = gamesThisWeek['Loser'][idx[g]]\n",
    "        \n",
    "        ## If it's the first half of the season use DVOA\n",
    "        if (w < wdvoa_min_week):\n",
    "            dvoa_idx_w = np.where(dvoa_data['TEAM'] == wTeam)[0][0]\n",
    "            dvoa_val_w = dvoa_data['TOTAL DVOA'][dvoa_idx_w]\n",
    "\n",
    "            dvoa_idx_l = np.where(dvoa_data['TEAM'] == lTeam)[0][0]\n",
    "            dvoa_val_l = dvoa_data['TOTAL DVOA'][dvoa_idx_l]\n",
    "        ## If it's the 2nd half of the season, use weighted DVOA\n",
    "        else:\n",
    "            dvoa_idx_w = np.where(dvoa_data['TEAM'] == wTeam)[0][0]\n",
    "            dvoa_val_w = dvoa_data['WDVOA'][dvoa_idx_w]\n",
    "\n",
    "            dvoa_idx_l = np.where(dvoa_data['TEAM'] == lTeam)[0][0]\n",
    "            dvoa_val_l = dvoa_data['WDVOA'][dvoa_idx_l]\n",
    "        \n",
    "        if (dvoa_val_w > dvoa_val_l):\n",
    "            correctPickCount17 += 1\n",
    "            weeklyWinsCounter += 1\n",
    "            \n",
    "        if (dvoa_val_w == dvoa_val_l):\n",
    "            tiedPicks17 += 1\n",
    "            \n",
    "    weeklyWins17[w] = weeklyWinsCounter"
   ]
  },
  {
   "cell_type": "code",
   "execution_count": 163,
   "metadata": {
    "collapsed": true
   },
   "outputs": [],
   "source": [
    "dvoaTOwdvoa_correctPickCount17 = correctPickCount17\n",
    "dvoaTOwdvoa_tiedPicks17 = tiedPicks17\n",
    "dvoaTOwdvoa_weeklyWins17 = weeklyWins17"
   ]
  },
  {
   "cell_type": "code",
   "execution_count": 164,
   "metadata": {},
   "outputs": [],
   "source": [
    "## Number of weeks in NFL regular season\n",
    "nweeks = 17\n",
    "wdvoa_min_week = 9 ## First published in week 9 to predict for week 10\n",
    "\n",
    "### 2018 correct pick counter\n",
    "correctPickCount18 = 0\n",
    "tiedPicks18 = 0\n",
    "weeklyWins18 = np.zeros(nweeks)\n",
    "\n",
    "for w in range(0,nweeks):\n",
    "    ## Read in DVOA file for this week\n",
    "    dvoa_data = pd.read_csv(indir + '2018_FO_DVOA_data/2018_dvoa_wk'+str(w)+'.csv')\n",
    "    \n",
    "    ## Which NFL games were played this week\n",
    "    gamesThisWeek = games18[games18['Week'] == w+1]\n",
    "    weeklyWinsCounter = 0\n",
    "    \n",
    "    ## Loop through games\n",
    "    idx = np.where(games18['Week'] == w+1)[0]\n",
    "    for g in range(len(idx)):\n",
    "        wTeam = gamesThisWeek['Winner'][idx[g]]\n",
    "        lTeam = gamesThisWeek['Loser'][idx[g]]\n",
    "        \n",
    "        ## If it's the first half of the season use DVOA\n",
    "        if (w < wdvoa_min_week):\n",
    "            dvoa_idx_w = np.where(dvoa_data['TEAM'] == wTeam)[0][0]\n",
    "            dvoa_val_w = dvoa_data['TOTAL DVOA'][dvoa_idx_w]\n",
    "\n",
    "            dvoa_idx_l = np.where(dvoa_data['TEAM'] == lTeam)[0][0]\n",
    "            dvoa_val_l = dvoa_data['TOTAL DVOA'][dvoa_idx_l]\n",
    "        ## If it's the 2nd half of the season, use weighted DVOA\n",
    "        else:\n",
    "            dvoa_idx_w = np.where(dvoa_data['TEAM'] == wTeam)[0][0]\n",
    "            dvoa_val_w = dvoa_data['WDVOA'][dvoa_idx_w]\n",
    "\n",
    "            dvoa_idx_l = np.where(dvoa_data['TEAM'] == lTeam)[0][0]\n",
    "            dvoa_val_l = dvoa_data['WDVOA'][dvoa_idx_l]\n",
    "        \n",
    "        if (dvoa_val_w > dvoa_val_l):\n",
    "            correctPickCount18 += 1\n",
    "            weeklyWinsCounter += 1\n",
    "            \n",
    "        if (dvoa_val_w == dvoa_val_l):\n",
    "            tiedPicks18 += 1\n",
    "            \n",
    "    weeklyWins18[w] = weeklyWinsCounter"
   ]
  },
  {
   "cell_type": "code",
   "execution_count": 165,
   "metadata": {
    "collapsed": true
   },
   "outputs": [],
   "source": [
    "dvoaTOwdvoa_correctPickCount18 = correctPickCount18\n",
    "dvoaTOwdvoa_tiedPicks18 = tiedPicks18\n",
    "dvoaTOwdvoa_weeklyWins18 = weeklyWins18"
   ]
  },
  {
   "cell_type": "markdown",
   "metadata": {},
   "source": [
    "## DAVE first, then weighted DVOA\n",
    "In week 1, use DVOA to predict (it's the only predictor available). Then in the first half of the season use DAVE and in the second half of the season use weighted DVOA. "
   ]
  },
  {
   "cell_type": "code",
   "execution_count": 166,
   "metadata": {},
   "outputs": [],
   "source": [
    "## Number of weeks in NFL regular season\n",
    "nweeks = 17\n",
    "wdvoa_min_week = 8 ## First published in week 8 to predict for week 9\n",
    "dave_min_week = 1 ## First week that DAVE is published\n",
    "\n",
    "### 2017 correct pick counter\n",
    "correctPickCount17 = 0\n",
    "tiedPicks17 = 0\n",
    "weeklyWins17 = np.zeros(nweeks)\n",
    "\n",
    "for w in range(0,nweeks):\n",
    "    ## Read in DVOA file for this week\n",
    "    dvoa_data = pd.read_csv(indir + '2017_FO_DVOA_data/2017_dvoa_wk'+str(w)+'.csv')\n",
    "    \n",
    "    ## Which NFL games were played this week\n",
    "    gamesThisWeek = games17[games17['Week'] == w+1]\n",
    "    weeklyWinsCounter = 0\n",
    "    \n",
    "    ## Loop through games\n",
    "    idx = np.where(games17['Week'] == w+1)[0]\n",
    "    for g in range(len(idx)):\n",
    "        wTeam = gamesThisWeek['Winner'][idx[g]]\n",
    "        lTeam = gamesThisWeek['Loser'][idx[g]]\n",
    "        \n",
    "        ## If it's the first week of the season use DVOA\n",
    "        if (w < dave_min_week):\n",
    "            dvoa_idx_w = np.where(dvoa_data['TEAM'] == wTeam)[0][0]\n",
    "            dvoa_val_w = dvoa_data['TOTAL DVOA'][dvoa_idx_w]\n",
    "\n",
    "            dvoa_idx_l = np.where(dvoa_data['TEAM'] == lTeam)[0][0]\n",
    "            dvoa_val_l = dvoa_data['TOTAL DVOA'][dvoa_idx_l]\n",
    "        ## If it's the 1st half of the season, use DAVE\n",
    "        elif (w >= dave_min_week) & (w < wdvoa_min_week):\n",
    "            dvoa_idx_w = np.where(dvoa_data['TEAM'] == wTeam)[0][0]\n",
    "            dvoa_val_w = dvoa_data['TOTAL DAVE'][dvoa_idx_w]\n",
    "\n",
    "            dvoa_idx_l = np.where(dvoa_data['TEAM'] == lTeam)[0][0]\n",
    "            dvoa_val_l = dvoa_data['TOTAL DAVE'][dvoa_idx_l]\n",
    "        ## If it's the 2nd half of the season, use weighted DVOA\n",
    "        else:\n",
    "            dvoa_idx_w = np.where(dvoa_data['TEAM'] == wTeam)[0][0]\n",
    "            dvoa_val_w = dvoa_data['WDVOA'][dvoa_idx_w]\n",
    "\n",
    "            dvoa_idx_l = np.where(dvoa_data['TEAM'] == lTeam)[0][0]\n",
    "            dvoa_val_l = dvoa_data['WDVOA'][dvoa_idx_l]\n",
    "        \n",
    "        if (dvoa_val_w > dvoa_val_l):\n",
    "            correctPickCount17 += 1\n",
    "            weeklyWinsCounter += 1\n",
    "            \n",
    "        if (dvoa_val_w == dvoa_val_l):\n",
    "            tiedPicks17 += 1\n",
    "            \n",
    "    weeklyWins17[w] = weeklyWinsCounter"
   ]
  },
  {
   "cell_type": "code",
   "execution_count": 167,
   "metadata": {
    "collapsed": true
   },
   "outputs": [],
   "source": [
    "daveTOwdvoa_correctPickCount17 = correctPickCount17\n",
    "daveTOwdvoa_tiedPicks17 = tiedPicks17\n",
    "daveTOwdvoa_weeklyWins17 = weeklyWins17"
   ]
  },
  {
   "cell_type": "code",
   "execution_count": 168,
   "metadata": {},
   "outputs": [],
   "source": [
    "## Number of weeks in NFL regular season\n",
    "nweeks = 17\n",
    "wdvoa_min_week = 9 ## First published in week 9 to predict for week 10\n",
    "dave_min_week = 1 ## First week that DAVE is published\n",
    "\n",
    "### 2018 correct pick counter\n",
    "correctPickCount18 = 0\n",
    "tiedPicks18 = 0\n",
    "weeklyWins18 = np.zeros(nweeks)\n",
    "\n",
    "for w in range(0,nweeks):\n",
    "    ## Read in DVOA file for this week\n",
    "    dvoa_data = pd.read_csv(indir + '2018_FO_DVOA_data/2018_dvoa_wk'+str(w)+'.csv')\n",
    "    \n",
    "    ## Which NFL games were played this week\n",
    "    gamesThisWeek = games18[games18['Week'] == w+1]\n",
    "    weeklyWinsCounter = 0\n",
    "    \n",
    "    ## Loop through games\n",
    "    idx = np.where(games18['Week'] == w+1)[0]\n",
    "    for g in range(len(idx)):\n",
    "        wTeam = gamesThisWeek['Winner'][idx[g]]\n",
    "        lTeam = gamesThisWeek['Loser'][idx[g]]\n",
    "        \n",
    "        ## If it's the first week of the season use DVOA\n",
    "        if (w < dave_min_week):\n",
    "            dvoa_idx_w = np.where(dvoa_data['TEAM'] == wTeam)[0][0]\n",
    "            dvoa_val_w = dvoa_data['TOTAL DVOA'][dvoa_idx_w]\n",
    "\n",
    "            dvoa_idx_l = np.where(dvoa_data['TEAM'] == lTeam)[0][0]\n",
    "            dvoa_val_l = dvoa_data['TOTAL DVOA'][dvoa_idx_l]\n",
    "        ## If it's the 1st half of the season, use DAVE\n",
    "        elif (w >= dave_min_week) & (w < wdvoa_min_week):\n",
    "            dvoa_idx_w = np.where(dvoa_data['TEAM'] == wTeam)[0][0]\n",
    "            dvoa_val_w = dvoa_data['TOTAL DAVE'][dvoa_idx_w]\n",
    "\n",
    "            dvoa_idx_l = np.where(dvoa_data['TEAM'] == lTeam)[0][0]\n",
    "            dvoa_val_l = dvoa_data['TOTAL DAVE'][dvoa_idx_l]\n",
    "        ## If it's the 2nd half of the season, use weighted DVOA\n",
    "        else:\n",
    "            dvoa_idx_w = np.where(dvoa_data['TEAM'] == wTeam)[0][0]\n",
    "            dvoa_val_w = dvoa_data['WDVOA'][dvoa_idx_w]\n",
    "\n",
    "            dvoa_idx_l = np.where(dvoa_data['TEAM'] == lTeam)[0][0]\n",
    "            dvoa_val_l = dvoa_data['WDVOA'][dvoa_idx_l]\n",
    "        \n",
    "        if (dvoa_val_w > dvoa_val_l):\n",
    "            correctPickCount18 += 1\n",
    "            weeklyWinsCounter += 1\n",
    "            \n",
    "        if (dvoa_val_w == dvoa_val_l):\n",
    "            tiedPicks18 += 1\n",
    "            \n",
    "    weeklyWins18[w] = weeklyWinsCounter"
   ]
  },
  {
   "cell_type": "code",
   "execution_count": 169,
   "metadata": {
    "collapsed": true
   },
   "outputs": [],
   "source": [
    "daveTOwdvoa_correctPickCount18 = correctPickCount18\n",
    "daveTOwdvoa_tiedPicks18 = tiedPicks18\n",
    "daveTOwdvoa_weeklyWins18 = weeklyWins18"
   ]
  },
  {
   "cell_type": "markdown",
   "metadata": {},
   "source": [
    "## Use offensive DVOA for all weeks\n",
    "DVOA can be broken down for offense, defense, and special teams. Use the offense success value here to predict winners"
   ]
  },
  {
   "cell_type": "code",
   "execution_count": 170,
   "metadata": {
    "collapsed": true
   },
   "outputs": [],
   "source": [
    "## Number of weeks in NFL regular season\n",
    "nweeks = 17\n",
    "\n",
    "### 2017 correct pick counter\n",
    "correctPickCount17 = 0\n",
    "tiedPicks17 = 0\n",
    "weeklyWins17 = np.zeros(nweeks)\n",
    "\n",
    "for w in range(0,nweeks):\n",
    "    ## Read in DVOA file for this week\n",
    "    dvoa_data = pd.read_csv(indir + '2017_FO_DVOA_data/2017_dvoa_wk'+str(w)+'.csv')\n",
    "    \n",
    "    ## Which NFL games were played this week\n",
    "    gamesThisWeek = games17[games17['Week'] == w+1]\n",
    "    weeklyWinsCounter = 0\n",
    "    \n",
    "    ## Loop through games\n",
    "    idx = np.where(games17['Week'] == w+1)[0]\n",
    "    for g in range(len(idx)):\n",
    "        wTeam = gamesThisWeek['Winner'][idx[g]]\n",
    "        lTeam = gamesThisWeek['Loser'][idx[g]]\n",
    "        \n",
    "        dvoa_idx_w = np.where(dvoa_data['TEAM'] == wTeam)[0][0]\n",
    "        dvoa_val_w = dvoa_data['OFF. DVOA'][dvoa_idx_w]\n",
    "        \n",
    "        dvoa_idx_l = np.where(dvoa_data['TEAM'] == lTeam)[0][0]\n",
    "        dvoa_val_l = dvoa_data['OFF. DVOA'][dvoa_idx_l]\n",
    "        \n",
    "        if (dvoa_val_w > dvoa_val_l):\n",
    "            correctPickCount17 += 1\n",
    "            weeklyWinsCounter += 1\n",
    "            \n",
    "        if (dvoa_val_w == dvoa_val_l):\n",
    "            tiedPicks17 += 1\n",
    "            \n",
    "    weeklyWins17[w] = weeklyWinsCounter"
   ]
  },
  {
   "cell_type": "code",
   "execution_count": 171,
   "metadata": {
    "collapsed": true
   },
   "outputs": [],
   "source": [
    "offdvoa_correctPickCount17 = correctPickCount17\n",
    "offdvoa_tiedPicks17 = tiedPicks17\n",
    "offdvoa_weeklyWins17 = weeklyWins17"
   ]
  },
  {
   "cell_type": "code",
   "execution_count": 172,
   "metadata": {},
   "outputs": [],
   "source": [
    "## Number of weeks in NFL regular season\n",
    "nweeks = 17\n",
    "\n",
    "### 2018 correct pick counter\n",
    "correctPickCount18 = 0\n",
    "tiedPicks18 = 0\n",
    "weeklyWins18 = np.zeros(nweeks)\n",
    "\n",
    "for w in range(0,nweeks):\n",
    "    ## Read in DVOA file for this week\n",
    "    dvoa_data = pd.read_csv(indir + '2018_FO_DVOA_data/2018_dvoa_wk'+str(w)+'.csv')\n",
    "    \n",
    "    ## Which NFL games were played this week\n",
    "    gamesThisWeek = games18[games18['Week'] == w+1]\n",
    "    weeklyWinsCounter = 0\n",
    "    \n",
    "    ## Loop through games\n",
    "    idx = np.where(games18['Week'] == w+1)[0]\n",
    "    for g in range(len(idx)):\n",
    "        wTeam = gamesThisWeek['Winner'][idx[g]]\n",
    "        lTeam = gamesThisWeek['Loser'][idx[g]]\n",
    "        \n",
    "        dvoa_idx_w = np.where(dvoa_data['TEAM'] == wTeam)[0][0]\n",
    "        dvoa_val_w = dvoa_data['OFF. DVOA'][dvoa_idx_w]\n",
    "        \n",
    "        dvoa_idx_l = np.where(dvoa_data['TEAM'] == lTeam)[0][0]\n",
    "        dvoa_val_l = dvoa_data['OFF. DVOA'][dvoa_idx_l]\n",
    "        \n",
    "        if (dvoa_val_w > dvoa_val_l):\n",
    "            correctPickCount18 += 1\n",
    "            weeklyWinsCounter += 1\n",
    "            \n",
    "        if (dvoa_val_w == dvoa_val_l):\n",
    "            tiedPicks18 += 1\n",
    "            \n",
    "    weeklyWins18[w] = weeklyWinsCounter"
   ]
  },
  {
   "cell_type": "code",
   "execution_count": 173,
   "metadata": {
    "collapsed": true
   },
   "outputs": [],
   "source": [
    "offdvoa_correctPickCount18 = correctPickCount18\n",
    "offdvoa_tiedPicks18 = tiedPicks18\n",
    "offdvoa_weeklyWins18 = weeklyWins18"
   ]
  },
  {
   "cell_type": "markdown",
   "metadata": {},
   "source": [
    "## Use defensive DVOA for all weeks\n",
    "DVOA can be broken down for offense, defense, and special teams. Use the defense success value here to predict winners. Note that a defense is better when their DVOA is smaller. "
   ]
  },
  {
   "cell_type": "code",
   "execution_count": 174,
   "metadata": {
    "collapsed": true
   },
   "outputs": [],
   "source": [
    "## Number of weeks in NFL regular season\n",
    "nweeks = 17\n",
    "\n",
    "### 2017 correct pick counter\n",
    "correctPickCount17 = 0\n",
    "tiedPicks17 = 0\n",
    "weeklyWins17 = np.zeros(nweeks)\n",
    "\n",
    "for w in range(0,nweeks):\n",
    "    ## Read in DVOA file for this week\n",
    "    dvoa_data = pd.read_csv(indir + '2017_FO_DVOA_data/2017_dvoa_wk'+str(w)+'.csv')\n",
    "    \n",
    "    ## Which NFL games were played this week\n",
    "    gamesThisWeek = games17[games17['Week'] == w+1]\n",
    "    weeklyWinsCounter = 0\n",
    "    \n",
    "    ## Loop through games\n",
    "    idx = np.where(games17['Week'] == w+1)[0]\n",
    "    for g in range(len(idx)):\n",
    "        wTeam = gamesThisWeek['Winner'][idx[g]]\n",
    "        lTeam = gamesThisWeek['Loser'][idx[g]]\n",
    "        \n",
    "        dvoa_idx_w = np.where(dvoa_data['TEAM'] == wTeam)[0][0]\n",
    "        dvoa_val_w = dvoa_data['DEF. DVOA'][dvoa_idx_w]\n",
    "        \n",
    "        dvoa_idx_l = np.where(dvoa_data['TEAM'] == lTeam)[0][0]\n",
    "        dvoa_val_l = dvoa_data['DEF. DVOA'][dvoa_idx_l]\n",
    "        \n",
    "        if (dvoa_val_w < dvoa_val_l): ## Smaller defense DVOA is better\n",
    "            correctPickCount17 += 1\n",
    "            weeklyWinsCounter += 1\n",
    "            \n",
    "        if (dvoa_val_w == dvoa_val_l):\n",
    "            tiedPicks17 += 1\n",
    "            \n",
    "    weeklyWins17[w] = weeklyWinsCounter"
   ]
  },
  {
   "cell_type": "code",
   "execution_count": 175,
   "metadata": {
    "collapsed": true
   },
   "outputs": [],
   "source": [
    "defdvoa_correctPickCount17 = correctPickCount17\n",
    "defdvoa_tiedPicks17 = tiedPicks17\n",
    "defdvoa_weeklyWins17 = weeklyWins17"
   ]
  },
  {
   "cell_type": "code",
   "execution_count": 176,
   "metadata": {},
   "outputs": [],
   "source": [
    "## Number of weeks in NFL regular season\n",
    "nweeks = 17\n",
    "\n",
    "### 2018 correct pick counter\n",
    "correctPickCount18 = 0\n",
    "tiedPicks18 = 0\n",
    "weeklyWins18 = np.zeros(nweeks)\n",
    "\n",
    "for w in range(0,nweeks):\n",
    "    ## Read in DVOA file for this week\n",
    "    dvoa_data = pd.read_csv(indir + '2018_FO_DVOA_data/2018_dvoa_wk'+str(w)+'.csv')\n",
    "    \n",
    "    ## Which NFL games were played this week\n",
    "    gamesThisWeek = games18[games18['Week'] == w+1]\n",
    "    weeklyWinsCounter = 0\n",
    "    \n",
    "    ## Loop through games\n",
    "    idx = np.where(games18['Week'] == w+1)[0]\n",
    "    for g in range(len(idx)):\n",
    "        wTeam = gamesThisWeek['Winner'][idx[g]]\n",
    "        lTeam = gamesThisWeek['Loser'][idx[g]]\n",
    "        \n",
    "        dvoa_idx_w = np.where(dvoa_data['TEAM'] == wTeam)[0][0]\n",
    "        dvoa_val_w = dvoa_data['DEF. DVOA'][dvoa_idx_w]\n",
    "        \n",
    "        dvoa_idx_l = np.where(dvoa_data['TEAM'] == lTeam)[0][0]\n",
    "        dvoa_val_l = dvoa_data['DEF. DVOA'][dvoa_idx_l]\n",
    "        \n",
    "        if (dvoa_val_w < dvoa_val_l): ## Smaller defense DVOA is better\n",
    "            correctPickCount18 += 1\n",
    "            weeklyWinsCounter += 1\n",
    "            \n",
    "        if (dvoa_val_w == dvoa_val_l):\n",
    "            tiedPicks18 += 1\n",
    "            \n",
    "    weeklyWins18[w] = weeklyWinsCounter"
   ]
  },
  {
   "cell_type": "code",
   "execution_count": 177,
   "metadata": {
    "collapsed": true
   },
   "outputs": [],
   "source": [
    "defdvoa_correctPickCount18 = correctPickCount18\n",
    "defdvoa_tiedPicks18 = tiedPicks18\n",
    "defdvoa_weeklyWins18 = weeklyWins18"
   ]
  },
  {
   "cell_type": "markdown",
   "metadata": {},
   "source": [
    "## Use Special Teams DVOA for all weeks\n",
    "DVOA can be broken down for offense, defense, and special teams. Use the special teams success value here to predict winners. "
   ]
  },
  {
   "cell_type": "code",
   "execution_count": 178,
   "metadata": {
    "collapsed": true
   },
   "outputs": [],
   "source": [
    "## Number of weeks in NFL regular season\n",
    "nweeks = 17\n",
    "\n",
    "### 2017 correct pick counter\n",
    "correctPickCount17 = 0\n",
    "tiedPicks17 = 0\n",
    "weeklyWins17 = np.zeros(nweeks)\n",
    "\n",
    "for w in range(0,nweeks):\n",
    "    ## Read in DVOA file for this week\n",
    "    dvoa_data = pd.read_csv(indir + '2017_FO_DVOA_data/2017_dvoa_wk'+str(w)+'.csv')\n",
    "    \n",
    "    ## Which NFL games were played this week\n",
    "    gamesThisWeek = games17[games17['Week'] == w+1]\n",
    "    weeklyWinsCounter = 0\n",
    "    \n",
    "    ## Loop through games\n",
    "    idx = np.where(games17['Week'] == w+1)[0]\n",
    "    for g in range(len(idx)):\n",
    "        wTeam = gamesThisWeek['Winner'][idx[g]]\n",
    "        lTeam = gamesThisWeek['Loser'][idx[g]]\n",
    "        \n",
    "        dvoa_idx_w = np.where(dvoa_data['TEAM'] == wTeam)[0][0]\n",
    "        dvoa_val_w = dvoa_data['S.T. DVOA'][dvoa_idx_w]\n",
    "        \n",
    "        dvoa_idx_l = np.where(dvoa_data['TEAM'] == lTeam)[0][0]\n",
    "        dvoa_val_l = dvoa_data['S.T. DVOA'][dvoa_idx_l]\n",
    "        \n",
    "        if (dvoa_val_w > dvoa_val_l):\n",
    "            correctPickCount17 += 1\n",
    "            weeklyWinsCounter += 1\n",
    "            \n",
    "        if (dvoa_val_w == dvoa_val_l):\n",
    "            tiedPicks17 += 1\n",
    "            \n",
    "    weeklyWins17[w] = weeklyWinsCounter"
   ]
  },
  {
   "cell_type": "code",
   "execution_count": 179,
   "metadata": {
    "collapsed": true
   },
   "outputs": [],
   "source": [
    "stdvoa_correctPickCount17 = correctPickCount17\n",
    "stdvoa_tiedPicks17 = tiedPicks17\n",
    "stdvoa_weeklyWins17 = weeklyWins17"
   ]
  },
  {
   "cell_type": "code",
   "execution_count": 180,
   "metadata": {},
   "outputs": [],
   "source": [
    "## Number of weeks in NFL regular season\n",
    "nweeks = 17\n",
    "\n",
    "### 2018 correct pick counter\n",
    "correctPickCount18 = 0\n",
    "tiedPicks18 = 0\n",
    "weeklyWins18 = np.zeros(nweeks)\n",
    "\n",
    "for w in range(0,nweeks):\n",
    "    ## Read in DVOA file for this week\n",
    "    dvoa_data = pd.read_csv(indir + '2018_FO_DVOA_data/2018_dvoa_wk'+str(w)+'.csv')\n",
    "    \n",
    "    ## Which NFL games were played this week\n",
    "    gamesThisWeek = games18[games18['Week'] == w+1]\n",
    "    weeklyWinsCounter = 0\n",
    "    \n",
    "    ## Loop through games\n",
    "    idx = np.where(games18['Week'] == w+1)[0]\n",
    "    for g in range(len(idx)):\n",
    "        wTeam = gamesThisWeek['Winner'][idx[g]]\n",
    "        lTeam = gamesThisWeek['Loser'][idx[g]]\n",
    "        \n",
    "        dvoa_idx_w = np.where(dvoa_data['TEAM'] == wTeam)[0][0]\n",
    "        dvoa_val_w = dvoa_data['S.T. DVOA'][dvoa_idx_w]\n",
    "        \n",
    "        dvoa_idx_l = np.where(dvoa_data['TEAM'] == lTeam)[0][0]\n",
    "        dvoa_val_l = dvoa_data['S.T. DVOA'][dvoa_idx_l]\n",
    "        \n",
    "        if (dvoa_val_w > dvoa_val_l):\n",
    "            correctPickCount18 += 1\n",
    "            weeklyWinsCounter += 1\n",
    "            \n",
    "        if (dvoa_val_w == dvoa_val_l):\n",
    "            tiedPicks18 += 1\n",
    "            \n",
    "    weeklyWins18[w] = weeklyWinsCounter"
   ]
  },
  {
   "cell_type": "code",
   "execution_count": 181,
   "metadata": {
    "collapsed": true
   },
   "outputs": [],
   "source": [
    "stdvoa_correctPickCount18 = correctPickCount18\n",
    "stdvoa_tiedPicks18 = tiedPicks18\n",
    "stdvoa_weeklyWins18 = weeklyWins18"
   ]
  },
  {
   "cell_type": "markdown",
   "metadata": {},
   "source": [
    "# Take all of these weekly wins counts, totals, and ties and save them to files"
   ]
  },
  {
   "cell_type": "code",
   "execution_count": 182,
   "metadata": {},
   "outputs": [],
   "source": [
    "### Weekly wins file\n",
    "week_arr = np.arange(1,18,1)\n",
    "\n",
    "## 2017 data\n",
    "weekly_data17 = {'Week':week_arr,\n",
    "                'DVOA Only': dvoaOnly_weeklyWins17,\n",
    "                'DAVE to DVOA': daveTOdvoa_weeklyWins17,\n",
    "                'DVOA to WDVOA': dvoaTOwdvoa_weeklyWins17,\n",
    "                'DAVE to WDVOA': daveTOwdvoa_weeklyWins17,\n",
    "                'OFF DVOA': offdvoa_weeklyWins17,\n",
    "                'DEF DVOA': defdvoa_weeklyWins17,\n",
    "                'ST DVOA': stdvoa_weeklyWins17}\n",
    "weeklyWinsData17 = pd.DataFrame(weekly_data17)\n",
    "weeklyWinsData17.to_csv(outdir + '2017_FO_DVOA_data/winsByWeek_2017.csv')\n",
    "\n",
    "## 2018 data\n",
    "weekly_data18 = {'Week':week_arr,\n",
    "                'DVOA Only': dvoaOnly_weeklyWins18,\n",
    "                'DAVE to DVOA': daveTOdvoa_weeklyWins18,\n",
    "                'DVOA to WDVOA': dvoaTOwdvoa_weeklyWins18,\n",
    "                'DAVE to WDVOA': daveTOwdvoa_weeklyWins18,\n",
    "                'OFF DVOA': offdvoa_weeklyWins18,\n",
    "                'DEF DVOA': defdvoa_weeklyWins18,\n",
    "                'ST DVOA': stdvoa_weeklyWins18}\n",
    "weeklyWinsData18 = pd.DataFrame(weekly_data18)\n",
    "weeklyWinsData18.to_csv(outdir + '2018_FO_DVOA_data/winsByWeek_2018.csv')"
   ]
  },
  {
   "cell_type": "code",
   "execution_count": 183,
   "metadata": {
    "collapsed": true
   },
   "outputs": [],
   "source": [
    "### Totals and ties (for simplicity)\n",
    "totalTypes = ['Total Correct', 'Ties']\n",
    "\n",
    "## 2017 data\n",
    "wins_data17 = {'TotalType':totalTypes,\n",
    "                'DVOA Only': [dvoaOnly_correctPickCount17,dvoaOnly_tiedPicks17],\n",
    "                'DAVE to DVOA': [daveTOdvoa_correctPickCount17,daveTOdvoa_tiedPicks17],\n",
    "                'DVOA to WDVOA': [dvoaTOwdvoa_correctPickCount17,dvoaTOwdvoa_tiedPicks17],\n",
    "                'DAVE to WDVOA': [daveTOwdvoa_correctPickCount17,daveTOwdvoa_tiedPicks17],\n",
    "                'OFF DVOA': [offdvoa_correctPickCount17,offdvoa_tiedPicks17],\n",
    "                'DEF DVOA': [defdvoa_correctPickCount17,defdvoa_tiedPicks17],\n",
    "                'ST DVOA': [stdvoa_correctPickCount17,stdvoa_tiedPicks17]}\n",
    "winsData17 = pd.DataFrame(wins_data17)\n",
    "winsData17.to_csv(outdir + '2017_FO_DVOA_data/totalWins_2017.csv')\n",
    "\n",
    "## 2018 data\n",
    "wins_data18 = {'TotalType':totalTypes,\n",
    "                'DVOA Only': [dvoaOnly_correctPickCount18,dvoaOnly_tiedPicks18],\n",
    "                'DAVE to DVOA': [daveTOdvoa_correctPickCount18,daveTOdvoa_tiedPicks18],\n",
    "                'DVOA to WDVOA': [dvoaTOwdvoa_correctPickCount18,dvoaTOwdvoa_tiedPicks18],\n",
    "                'DAVE to WDVOA': [daveTOwdvoa_correctPickCount18,daveTOwdvoa_tiedPicks18],\n",
    "                'OFF DVOA': [offdvoa_correctPickCount18,offdvoa_tiedPicks18],\n",
    "                'DEF DVOA': [defdvoa_correctPickCount18,defdvoa_tiedPicks18],\n",
    "                'ST DVOA': [stdvoa_correctPickCount18,stdvoa_tiedPicks18]}\n",
    "winsData18 = pd.DataFrame(wins_data18)\n",
    "winsData18.to_csv(outdir + '2018_FO_DVOA_data/totalWins_2018.csv')"
   ]
  },
  {
   "cell_type": "code",
   "execution_count": null,
   "metadata": {
    "collapsed": true
   },
   "outputs": [],
   "source": []
  }
 ],
 "metadata": {
  "kernelspec": {
   "display_name": "Python 3",
   "language": "python",
   "name": "python3"
  },
  "language_info": {
   "codemirror_mode": {
    "name": "ipython",
    "version": 3
   },
   "file_extension": ".py",
   "mimetype": "text/x-python",
   "name": "python",
   "nbconvert_exporter": "python",
   "pygments_lexer": "ipython3",
   "version": "3.6.2"
  }
 },
 "nbformat": 4,
 "nbformat_minor": 2
}
